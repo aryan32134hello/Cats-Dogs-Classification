{
  "nbformat": 4,
  "nbformat_minor": 0,
  "metadata": {
    "colab": {
      "provenance": []
    },
    "kernelspec": {
      "name": "python3",
      "display_name": "Python 3"
    },
    "language_info": {
      "name": "python"
    },
    "accelerator": "GPU",
    "gpuClass": "standard"
  },
  "cells": [
    {
      "cell_type": "code",
      "execution_count": 1,
      "metadata": {
        "colab": {
          "base_uri": "https://localhost:8080/"
        },
        "id": "21eflf1evdxO",
        "outputId": "e95a498e-18a7-4196-9e7c-22add7e7a2eb"
      },
      "outputs": [
        {
          "output_type": "stream",
          "name": "stdout",
          "text": [
            "Looking in indexes: https://pypi.org/simple, https://us-python.pkg.dev/colab-wheels/public/simple/\n",
            "Requirement already satisfied: opendatasets in /usr/local/lib/python3.10/dist-packages (0.1.22)\n",
            "Requirement already satisfied: kaggle in /usr/local/lib/python3.10/dist-packages (from opendatasets) (1.5.13)\n",
            "Requirement already satisfied: tqdm in /usr/local/lib/python3.10/dist-packages (from opendatasets) (4.65.0)\n",
            "Requirement already satisfied: click in /usr/local/lib/python3.10/dist-packages (from opendatasets) (8.1.3)\n",
            "Requirement already satisfied: six>=1.10 in /usr/local/lib/python3.10/dist-packages (from kaggle->opendatasets) (1.16.0)\n",
            "Requirement already satisfied: certifi in /usr/local/lib/python3.10/dist-packages (from kaggle->opendatasets) (2022.12.7)\n",
            "Requirement already satisfied: requests in /usr/local/lib/python3.10/dist-packages (from kaggle->opendatasets) (2.27.1)\n",
            "Requirement already satisfied: python-dateutil in /usr/local/lib/python3.10/dist-packages (from kaggle->opendatasets) (2.8.2)\n",
            "Requirement already satisfied: urllib3 in /usr/local/lib/python3.10/dist-packages (from kaggle->opendatasets) (1.26.15)\n",
            "Requirement already satisfied: python-slugify in /usr/local/lib/python3.10/dist-packages (from kaggle->opendatasets) (8.0.1)\n",
            "Requirement already satisfied: text-unidecode>=1.3 in /usr/local/lib/python3.10/dist-packages (from python-slugify->kaggle->opendatasets) (1.3)\n",
            "Requirement already satisfied: idna<4,>=2.5 in /usr/local/lib/python3.10/dist-packages (from requests->kaggle->opendatasets) (3.4)\n",
            "Requirement already satisfied: charset-normalizer~=2.0.0 in /usr/local/lib/python3.10/dist-packages (from requests->kaggle->opendatasets) (2.0.12)\n"
          ]
        }
      ],
      "source": [
        "!pip install opendatasets"
      ]
    },
    {
      "cell_type": "markdown",
      "source": [
        "Importing Libraries"
      ],
      "metadata": {
        "id": "K5LWXfiRv88Y"
      }
    },
    {
      "cell_type": "code",
      "source": [
        "import opendatasets as od\n",
        "import os\n",
        "import numpy as np\n",
        "import cv2\n",
        "from tensorflow import keras\n",
        "from keras.applications.vgg16 import VGG16\n",
        "from keras.layers import Dense\n",
        "from keras import Sequential"
      ],
      "metadata": {
        "id": "K0xYBvSLv2os"
      },
      "execution_count": 2,
      "outputs": []
    },
    {
      "cell_type": "markdown",
      "source": [
        "Downloading the dataset"
      ],
      "metadata": {
        "id": "7sailzkrwnde"
      }
    },
    {
      "cell_type": "code",
      "source": [
        "od.download('https://www.kaggle.com/datasets/salader/dogs-vs-cats')"
      ],
      "metadata": {
        "colab": {
          "base_uri": "https://localhost:8080/"
        },
        "id": "ucqnnNOxwmzE",
        "outputId": "6e25bfdc-75e5-409d-e5d4-3ca39d3bdb34"
      },
      "execution_count": 3,
      "outputs": [
        {
          "output_type": "stream",
          "name": "stdout",
          "text": [
            "Skipping, found downloaded files in \"./dogs-vs-cats\" (use force=True to force download)\n"
          ]
        }
      ]
    },
    {
      "cell_type": "markdown",
      "source": [
        "Preparing the Model"
      ],
      "metadata": {
        "id": "Y3suX9QRw9Jo"
      }
    },
    {
      "cell_type": "code",
      "source": [
        "base_model = VGG16(include_top = False,weights='imagenet',input_shape=(150,150,3))"
      ],
      "metadata": {
        "id": "z-ZkfW8wv5fy"
      },
      "execution_count": 4,
      "outputs": []
    },
    {
      "cell_type": "code",
      "source": [
        "from keras.layers import Flatten\n",
        "model = Sequential()\n",
        "model.add(base_model)\n",
        "model.add(Flatten())\n",
        "model.add(Dense(128,activation='relu'))\n",
        "model.add(Dense(1,activation = 'sigmoid'))\n",
        "base_model.trainable = False\n",
        "model.summary()"
      ],
      "metadata": {
        "colab": {
          "base_uri": "https://localhost:8080/"
        },
        "id": "TY1RKp7JzH26",
        "outputId": "fb5ed517-9500-430b-a119-4743fd932727"
      },
      "execution_count": 5,
      "outputs": [
        {
          "output_type": "stream",
          "name": "stdout",
          "text": [
            "Model: \"sequential\"\n",
            "_________________________________________________________________\n",
            " Layer (type)                Output Shape              Param #   \n",
            "=================================================================\n",
            " vgg16 (Functional)          (None, 4, 4, 512)         14714688  \n",
            "                                                                 \n",
            " flatten (Flatten)           (None, 8192)              0         \n",
            "                                                                 \n",
            " dense (Dense)               (None, 128)               1048704   \n",
            "                                                                 \n",
            " dense_1 (Dense)             (None, 1)                 129       \n",
            "                                                                 \n",
            "=================================================================\n",
            "Total params: 15,763,521\n",
            "Trainable params: 1,048,833\n",
            "Non-trainable params: 14,714,688\n",
            "_________________________________________________________________\n"
          ]
        }
      ]
    },
    {
      "cell_type": "markdown",
      "source": [
        "Preparing the training dataset and labels"
      ],
      "metadata": {
        "id": "rjUAxmxL4FFb"
      }
    },
    {
      "cell_type": "code",
      "source": [
        "data_path = '/content/dogs-vs-cats/train/'\n",
        "class_names = sorted(os.listdir(data_path))\n",
        "num_classes = len(class_names)\n",
        "print(class_names)"
      ],
      "metadata": {
        "colab": {
          "base_uri": "https://localhost:8080/"
        },
        "id": "UeiSOCWX0EPZ",
        "outputId": "0c8f409b-d138-4b13-b1f9-590bea81b19a"
      },
      "execution_count": 6,
      "outputs": [
        {
          "output_type": "stream",
          "name": "stdout",
          "text": [
            "['cats', 'dogs']\n"
          ]
        }
      ]
    },
    {
      "cell_type": "code",
      "source": [
        "from keras.applications.vgg16 import preprocess_input\n",
        "train_data = np.empty((6000,150,150,3))\n",
        "i=0\n",
        "for cl in class_names:\n",
        "  k=0\n",
        "  print(cl,end = '=>')\n",
        "  for img in os.listdir(data_path + cl):\n",
        "        if(k==3000):\n",
        "            break\n",
        "        image = np.asarray(cv2.resize(cv2.imread(data_path+cl+'/'+img,cv2.IMREAD_COLOR),[150,150]))\n",
        "        image = preprocess_input(image)\n",
        "        train_data[i]=image\n",
        "        i=i+1\n",
        "        k=k+1\n",
        "  print('done')"
      ],
      "metadata": {
        "colab": {
          "base_uri": "https://localhost:8080/"
        },
        "id": "hpWo8IaD4W_W",
        "outputId": "b301d2c4-37d4-4c7d-b894-7e206f2ed432"
      },
      "execution_count": 7,
      "outputs": [
        {
          "output_type": "stream",
          "name": "stdout",
          "text": [
            "cats=>done\n",
            "dogs=>done\n"
          ]
        }
      ]
    },
    {
      "cell_type": "code",
      "source": [
        "labels = np.empty(6000,dtype = int)\n",
        "labels[:3000] = 0\n",
        "labels[3000:] = 1"
      ],
      "metadata": {
        "id": "69OhLf0b5Zog"
      },
      "execution_count": 8,
      "outputs": []
    },
    {
      "cell_type": "markdown",
      "source": [
        "Preparing the validation data and labels"
      ],
      "metadata": {
        "id": "YqgZxOuf532t"
      }
    },
    {
      "cell_type": "code",
      "source": [
        "valid_data = np.empty((1000,150,150,3))\n",
        "data_path = '/content/dogs-vs-cats/test/'\n",
        "class_name = sorted(os.listdir(data_path))\n",
        "num_classes = len(class_name)\n",
        "print(class_name)"
      ],
      "metadata": {
        "colab": {
          "base_uri": "https://localhost:8080/"
        },
        "id": "wEeewVTh53Gw",
        "outputId": "be81ba1c-7d80-43ae-a3e8-a835785f6749"
      },
      "execution_count": 9,
      "outputs": [
        {
          "output_type": "stream",
          "name": "stdout",
          "text": [
            "['cats', 'dogs']\n"
          ]
        }
      ]
    },
    {
      "cell_type": "code",
      "source": [
        "i=0\n",
        "for cl in class_name:\n",
        "  k=0\n",
        "  print(cl,end = '=>')\n",
        "  for img in os.listdir(data_path + cl):\n",
        "        if(k==500):\n",
        "            break\n",
        "        image = np.asarray(cv2.resize(cv2.imread(data_path+cl+'/'+img,cv2.IMREAD_COLOR),[150,150]))\n",
        "        image = preprocess_input(image)\n",
        "        valid_data[i]=image\n",
        "        i=i+1\n",
        "        k=k+1\n",
        "  print('done')"
      ],
      "metadata": {
        "colab": {
          "base_uri": "https://localhost:8080/"
        },
        "id": "wsGlpw_m5WjG",
        "outputId": "11c3e32a-9047-4313-feef-bf456cd2ff16"
      },
      "execution_count": 10,
      "outputs": [
        {
          "output_type": "stream",
          "name": "stdout",
          "text": [
            "cats=>done\n",
            "dogs=>done\n"
          ]
        }
      ]
    },
    {
      "cell_type": "code",
      "source": [
        "valid_labels = np.empty(1000,dtype=int)\n",
        "valid_labels[:500] = 0\n",
        "valid_labels[500:] = 1"
      ],
      "metadata": {
        "id": "j2G3SIzj6gh4"
      },
      "execution_count": 11,
      "outputs": []
    },
    {
      "cell_type": "markdown",
      "source": [
        "Compiling and fitting the model"
      ],
      "metadata": {
        "id": "DkB6uB5o6xDl"
      }
    },
    {
      "cell_type": "code",
      "source": [
        "model.compile(optimizer='adam',metrics=['accuracy'],loss='binary_crossentropy')"
      ],
      "metadata": {
        "id": "uv0q680y6wge"
      },
      "execution_count": 12,
      "outputs": []
    },
    {
      "cell_type": "code",
      "source": [
        "from keras.callbacks import EarlyStopping\n",
        "callback = EarlyStopping(monitor='val_loss',patience=3)\n"
      ],
      "metadata": {
        "id": "jyt0m7xZ8z05"
      },
      "execution_count": 13,
      "outputs": []
    },
    {
      "cell_type": "code",
      "source": [
        "model.fit(x=train_data,y=labels,epochs=20,batch_size = 32,validation_data=(valid_data,valid_labels),callbacks=[callback])"
      ],
      "metadata": {
        "colab": {
          "base_uri": "https://localhost:8080/"
        },
        "id": "bwS_jADG67vI",
        "outputId": "562ceeb8-b949-4647-bd2c-eef65ae92e9e"
      },
      "execution_count": 14,
      "outputs": [
        {
          "output_type": "stream",
          "name": "stdout",
          "text": [
            "Epoch 1/20\n",
            "188/188 [==============================] - 34s 106ms/step - loss: 0.9541 - accuracy: 0.9197 - val_loss: 0.2012 - val_accuracy: 0.9370\n",
            "Epoch 2/20\n",
            "188/188 [==============================] - 15s 82ms/step - loss: 0.0677 - accuracy: 0.9728 - val_loss: 0.1705 - val_accuracy: 0.9480\n",
            "Epoch 3/20\n",
            "188/188 [==============================] - 16s 84ms/step - loss: 0.0293 - accuracy: 0.9880 - val_loss: 0.2401 - val_accuracy: 0.9470\n",
            "Epoch 4/20\n",
            "188/188 [==============================] - 16s 85ms/step - loss: 0.0163 - accuracy: 0.9923 - val_loss: 0.2224 - val_accuracy: 0.9440\n",
            "Epoch 5/20\n",
            "188/188 [==============================] - 16s 85ms/step - loss: 0.0120 - accuracy: 0.9960 - val_loss: 0.2637 - val_accuracy: 0.9460\n"
          ]
        },
        {
          "output_type": "execute_result",
          "data": {
            "text/plain": [
              "<keras.callbacks.History at 0x7f205e88ac50>"
            ]
          },
          "metadata": {},
          "execution_count": 14
        }
      ]
    },
    {
      "cell_type": "code",
      "source": [
        "train_loss, train_acc = model.evaluate(x=train_data,y=labels)\n",
        "test_loss, test_acc   = model.evaluate(x=valid_data,y=valid_labels)\n",
        "print(\"final train accuracy = {:.2f} , Test accuracy = {:.2f}\".format(train_acc*100, test_acc*100))"
      ],
      "metadata": {
        "colab": {
          "base_uri": "https://localhost:8080/"
        },
        "id": "HgkKpBLQA2wQ",
        "outputId": "adc986c1-3563-403a-84ac-efaeb75b48ff"
      },
      "execution_count": 15,
      "outputs": [
        {
          "output_type": "stream",
          "name": "stdout",
          "text": [
            "188/188 [==============================] - 13s 68ms/step - loss: 0.0073 - accuracy: 0.9973\n",
            "32/32 [==============================] - 2s 68ms/step - loss: 0.2637 - accuracy: 0.9460\n",
            "final train accuracy = 99.73 , Test accuracy = 94.60\n"
          ]
        }
      ]
    }
  ]
}